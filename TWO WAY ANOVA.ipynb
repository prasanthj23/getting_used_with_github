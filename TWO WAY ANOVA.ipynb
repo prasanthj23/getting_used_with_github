{
 "cells": [
  {
   "cell_type": "markdown",
   "id": "b90f0fc7",
   "metadata": {},
   "source": [
    "# Chothani Jay (D22014)"
   ]
  },
  {
   "cell_type": "markdown",
   "id": "8a6c78b2",
   "metadata": {},
   "source": [
    "# ANOVA"
   ]
  },
  {
   "cell_type": "markdown",
   "id": "0e3983be",
   "metadata": {},
   "source": [
    "#### Generate 3 populations  "
   ]
  },
  {
   "cell_type": "code",
   "execution_count": 69,
   "id": "8bf164ce",
   "metadata": {},
   "outputs": [],
   "source": [
    "import numpy as np"
   ]
  },
  {
   "cell_type": "code",
   "execution_count": 71,
   "id": "828d86d6",
   "metadata": {},
   "outputs": [],
   "source": [
    "city = ['bang','mum','del','bang','mum','del','bang','mum','del']+['bang','mum','del','bang','mum','del','bang','mum','del']\n",
    "institute = ['praxis','praxis','praxis','masai','masai','masai','great_learn','great_learn','great_learn']+['praxis','praxis','praxis','masai','masai','masai','great_learn','great_learn','great_learn']\n",
    "fees = [4,7,5,8,1,6,2,2.5,4]+[8.2,4.2,4.1,5.1,6.1,4,1.5,3.5,2]"
   ]
  },
  {
   "cell_type": "code",
   "execution_count": 72,
   "id": "55a909d4",
   "metadata": {},
   "outputs": [],
   "source": [
    "import pandas as pd"
   ]
  },
  {
   "cell_type": "code",
   "execution_count": 73,
   "id": "fd6036fe",
   "metadata": {},
   "outputs": [],
   "source": [
    "data = {'city':city,'institute' : institute , 'fees' : fees}"
   ]
  },
  {
   "cell_type": "code",
   "execution_count": 74,
   "id": "ce816628",
   "metadata": {},
   "outputs": [],
   "source": [
    "df = pd.DataFrame(data = data)"
   ]
  },
  {
   "cell_type": "code",
   "execution_count": 75,
   "id": "1682cdee",
   "metadata": {},
   "outputs": [
    {
     "data": {
      "text/html": [
       "<div>\n",
       "<style scoped>\n",
       "    .dataframe tbody tr th:only-of-type {\n",
       "        vertical-align: middle;\n",
       "    }\n",
       "\n",
       "    .dataframe tbody tr th {\n",
       "        vertical-align: top;\n",
       "    }\n",
       "\n",
       "    .dataframe thead th {\n",
       "        text-align: right;\n",
       "    }\n",
       "</style>\n",
       "<table border=\"1\" class=\"dataframe\">\n",
       "  <thead>\n",
       "    <tr style=\"text-align: right;\">\n",
       "      <th></th>\n",
       "      <th>city</th>\n",
       "      <th>institute</th>\n",
       "      <th>fees</th>\n",
       "    </tr>\n",
       "  </thead>\n",
       "  <tbody>\n",
       "    <tr>\n",
       "      <th>0</th>\n",
       "      <td>bang</td>\n",
       "      <td>praxis</td>\n",
       "      <td>4.0</td>\n",
       "    </tr>\n",
       "    <tr>\n",
       "      <th>1</th>\n",
       "      <td>mum</td>\n",
       "      <td>praxis</td>\n",
       "      <td>7.0</td>\n",
       "    </tr>\n",
       "    <tr>\n",
       "      <th>2</th>\n",
       "      <td>del</td>\n",
       "      <td>praxis</td>\n",
       "      <td>5.0</td>\n",
       "    </tr>\n",
       "    <tr>\n",
       "      <th>3</th>\n",
       "      <td>bang</td>\n",
       "      <td>masai</td>\n",
       "      <td>8.0</td>\n",
       "    </tr>\n",
       "    <tr>\n",
       "      <th>4</th>\n",
       "      <td>mum</td>\n",
       "      <td>masai</td>\n",
       "      <td>1.0</td>\n",
       "    </tr>\n",
       "    <tr>\n",
       "      <th>5</th>\n",
       "      <td>del</td>\n",
       "      <td>masai</td>\n",
       "      <td>6.0</td>\n",
       "    </tr>\n",
       "    <tr>\n",
       "      <th>6</th>\n",
       "      <td>bang</td>\n",
       "      <td>great_learn</td>\n",
       "      <td>2.0</td>\n",
       "    </tr>\n",
       "    <tr>\n",
       "      <th>7</th>\n",
       "      <td>mum</td>\n",
       "      <td>great_learn</td>\n",
       "      <td>2.5</td>\n",
       "    </tr>\n",
       "    <tr>\n",
       "      <th>8</th>\n",
       "      <td>del</td>\n",
       "      <td>great_learn</td>\n",
       "      <td>4.0</td>\n",
       "    </tr>\n",
       "    <tr>\n",
       "      <th>9</th>\n",
       "      <td>bang</td>\n",
       "      <td>praxis</td>\n",
       "      <td>8.2</td>\n",
       "    </tr>\n",
       "    <tr>\n",
       "      <th>10</th>\n",
       "      <td>mum</td>\n",
       "      <td>praxis</td>\n",
       "      <td>4.2</td>\n",
       "    </tr>\n",
       "    <tr>\n",
       "      <th>11</th>\n",
       "      <td>del</td>\n",
       "      <td>praxis</td>\n",
       "      <td>4.1</td>\n",
       "    </tr>\n",
       "    <tr>\n",
       "      <th>12</th>\n",
       "      <td>bang</td>\n",
       "      <td>masai</td>\n",
       "      <td>5.1</td>\n",
       "    </tr>\n",
       "    <tr>\n",
       "      <th>13</th>\n",
       "      <td>mum</td>\n",
       "      <td>masai</td>\n",
       "      <td>6.1</td>\n",
       "    </tr>\n",
       "    <tr>\n",
       "      <th>14</th>\n",
       "      <td>del</td>\n",
       "      <td>masai</td>\n",
       "      <td>4.0</td>\n",
       "    </tr>\n",
       "    <tr>\n",
       "      <th>15</th>\n",
       "      <td>bang</td>\n",
       "      <td>great_learn</td>\n",
       "      <td>1.5</td>\n",
       "    </tr>\n",
       "    <tr>\n",
       "      <th>16</th>\n",
       "      <td>mum</td>\n",
       "      <td>great_learn</td>\n",
       "      <td>3.5</td>\n",
       "    </tr>\n",
       "    <tr>\n",
       "      <th>17</th>\n",
       "      <td>del</td>\n",
       "      <td>great_learn</td>\n",
       "      <td>2.0</td>\n",
       "    </tr>\n",
       "  </tbody>\n",
       "</table>\n",
       "</div>"
      ],
      "text/plain": [
       "    city    institute  fees\n",
       "0   bang       praxis   4.0\n",
       "1    mum       praxis   7.0\n",
       "2    del       praxis   5.0\n",
       "3   bang        masai   8.0\n",
       "4    mum        masai   1.0\n",
       "5    del        masai   6.0\n",
       "6   bang  great_learn   2.0\n",
       "7    mum  great_learn   2.5\n",
       "8    del  great_learn   4.0\n",
       "9   bang       praxis   8.2\n",
       "10   mum       praxis   4.2\n",
       "11   del       praxis   4.1\n",
       "12  bang        masai   5.1\n",
       "13   mum        masai   6.1\n",
       "14   del        masai   4.0\n",
       "15  bang  great_learn   1.5\n",
       "16   mum  great_learn   3.5\n",
       "17   del  great_learn   2.0"
      ]
     },
     "execution_count": 75,
     "metadata": {},
     "output_type": "execute_result"
    }
   ],
   "source": [
    "df"
   ]
  },
  {
   "cell_type": "code",
   "execution_count": 80,
   "id": "7e638bc9",
   "metadata": {},
   "outputs": [
    {
     "data": {
      "text/plain": [
       "4.344444444444445"
      ]
     },
     "execution_count": 80,
     "metadata": {},
     "output_type": "execute_result"
    }
   ],
   "source": [
    "gr_mean = np.mean(fees)\n",
    "gr_mean"
   ]
  },
  {
   "cell_type": "code",
   "execution_count": 126,
   "id": "1f8bad14",
   "metadata": {},
   "outputs": [
    {
     "data": {
      "text/plain": [
       "76.92444444444445"
      ]
     },
     "execution_count": 126,
     "metadata": {},
     "output_type": "execute_result"
    }
   ],
   "source": [
    "SST = np.sum((df.fees - gr_mean)**2)\n",
    "SST"
   ]
  },
  {
   "cell_type": "code",
   "execution_count": 81,
   "id": "83bb589b",
   "metadata": {},
   "outputs": [],
   "source": [
    "city_means = df.groupby([city]).mean()"
   ]
  },
  {
   "cell_type": "code",
   "execution_count": 82,
   "id": "248366ab",
   "metadata": {},
   "outputs": [
    {
     "data": {
      "text/plain": [
       "4.8"
      ]
     },
     "execution_count": 82,
     "metadata": {},
     "output_type": "execute_result"
    }
   ],
   "source": [
    "mean_bang = city_means.loc['bang'][0]\n",
    "mean_mum = city_means.loc['mum'][0]\n",
    "mean_del = city_means.loc['del'][0]"
   ]
  },
  {
   "cell_type": "code",
   "execution_count": 85,
   "id": "ff6de090",
   "metadata": {},
   "outputs": [
    {
     "data": {
      "text/html": [
       "<div>\n",
       "<style scoped>\n",
       "    .dataframe tbody tr th:only-of-type {\n",
       "        vertical-align: middle;\n",
       "    }\n",
       "\n",
       "    .dataframe tbody tr th {\n",
       "        vertical-align: top;\n",
       "    }\n",
       "\n",
       "    .dataframe thead th {\n",
       "        text-align: right;\n",
       "    }\n",
       "</style>\n",
       "<table border=\"1\" class=\"dataframe\">\n",
       "  <thead>\n",
       "    <tr style=\"text-align: right;\">\n",
       "      <th></th>\n",
       "      <th>fees</th>\n",
       "    </tr>\n",
       "  </thead>\n",
       "  <tbody>\n",
       "    <tr>\n",
       "      <th>great_learn</th>\n",
       "      <td>2.583333</td>\n",
       "    </tr>\n",
       "    <tr>\n",
       "      <th>masai</th>\n",
       "      <td>5.033333</td>\n",
       "    </tr>\n",
       "    <tr>\n",
       "      <th>praxis</th>\n",
       "      <td>5.416667</td>\n",
       "    </tr>\n",
       "  </tbody>\n",
       "</table>\n",
       "</div>"
      ],
      "text/plain": [
       "                 fees\n",
       "great_learn  2.583333\n",
       "masai        5.033333\n",
       "praxis       5.416667"
      ]
     },
     "execution_count": 85,
     "metadata": {},
     "output_type": "execute_result"
    }
   ],
   "source": [
    "institute_means = df.groupby([institute]).mean()\n",
    "institute_means"
   ]
  },
  {
   "cell_type": "code",
   "execution_count": 86,
   "id": "d8e0bef4",
   "metadata": {},
   "outputs": [
    {
     "data": {
      "text/plain": [
       "2.5833333333333335"
      ]
     },
     "execution_count": 86,
     "metadata": {},
     "output_type": "execute_result"
    }
   ],
   "source": [
    "mean_great = institute_means.loc['great_learn'][0]\n",
    "mean_masai = institute_means.loc['masai'][0]\n",
    "mean_praxis = institute_means.loc['praxis'][0]"
   ]
  },
  {
   "cell_type": "code",
   "execution_count": 103,
   "id": "1ed1f982",
   "metadata": {},
   "outputs": [
    {
     "data": {
      "text/html": [
       "<div>\n",
       "<style scoped>\n",
       "    .dataframe tbody tr th:only-of-type {\n",
       "        vertical-align: middle;\n",
       "    }\n",
       "\n",
       "    .dataframe tbody tr th {\n",
       "        vertical-align: top;\n",
       "    }\n",
       "\n",
       "    .dataframe thead th {\n",
       "        text-align: right;\n",
       "    }\n",
       "</style>\n",
       "<table border=\"1\" class=\"dataframe\">\n",
       "  <thead>\n",
       "    <tr style=\"text-align: right;\">\n",
       "      <th></th>\n",
       "      <th></th>\n",
       "      <th>fees</th>\n",
       "    </tr>\n",
       "    <tr>\n",
       "      <th>city</th>\n",
       "      <th>institute</th>\n",
       "      <th></th>\n",
       "    </tr>\n",
       "  </thead>\n",
       "  <tbody>\n",
       "    <tr>\n",
       "      <th rowspan=\"3\" valign=\"top\">bang</th>\n",
       "      <th>great_learn</th>\n",
       "      <td>1.75</td>\n",
       "    </tr>\n",
       "    <tr>\n",
       "      <th>masai</th>\n",
       "      <td>6.55</td>\n",
       "    </tr>\n",
       "    <tr>\n",
       "      <th>praxis</th>\n",
       "      <td>6.10</td>\n",
       "    </tr>\n",
       "    <tr>\n",
       "      <th rowspan=\"3\" valign=\"top\">del</th>\n",
       "      <th>great_learn</th>\n",
       "      <td>3.00</td>\n",
       "    </tr>\n",
       "    <tr>\n",
       "      <th>masai</th>\n",
       "      <td>5.00</td>\n",
       "    </tr>\n",
       "    <tr>\n",
       "      <th>praxis</th>\n",
       "      <td>4.55</td>\n",
       "    </tr>\n",
       "    <tr>\n",
       "      <th rowspan=\"3\" valign=\"top\">mum</th>\n",
       "      <th>great_learn</th>\n",
       "      <td>3.00</td>\n",
       "    </tr>\n",
       "    <tr>\n",
       "      <th>masai</th>\n",
       "      <td>3.55</td>\n",
       "    </tr>\n",
       "    <tr>\n",
       "      <th>praxis</th>\n",
       "      <td>5.60</td>\n",
       "    </tr>\n",
       "  </tbody>\n",
       "</table>\n",
       "</div>"
      ],
      "text/plain": [
       "                  fees\n",
       "city institute        \n",
       "bang great_learn  1.75\n",
       "     masai        6.55\n",
       "     praxis       6.10\n",
       "del  great_learn  3.00\n",
       "     masai        5.00\n",
       "     praxis       4.55\n",
       "mum  great_learn  3.00\n",
       "     masai        3.55\n",
       "     praxis       5.60"
      ]
     },
     "execution_count": 103,
     "metadata": {},
     "output_type": "execute_result"
    }
   ],
   "source": [
    "with_mean = df.groupby(['city','institute']).mean()\n",
    "with_mean"
   ]
  },
  {
   "cell_type": "code",
   "execution_count": 106,
   "id": "75d42918",
   "metadata": {},
   "outputs": [
    {
     "data": {
      "text/plain": [
       "1.75"
      ]
     },
     "execution_count": 106,
     "metadata": {},
     "output_type": "execute_result"
    }
   ],
   "source": [
    "with_mean.loc['bang','great_learn'][0]"
   ]
  },
  {
   "cell_type": "code",
   "execution_count": 107,
   "id": "b1553b6c",
   "metadata": {},
   "outputs": [],
   "source": [
    "# mean_bang_great = with_mean.loc['bang','great_learn'][0]\n",
    "# mean_bang_masai = with_mean.loc['bang','masai'][0]\n",
    "# mean_bang_praxis = with_mean.loc['bang','praxis'][0]\n",
    "# mean_del_great = with_mean.loc['del','great_learn'][0]\n",
    "# mean_del_masai = with_mean.loc['del','masai'][0]\n",
    "# mean_del_praxis= with_mean.loc['del','praxis'][0]\n",
    "# mean_mum_great= with_mean.loc['mum','great_learn'][0]\n",
    "# mean_mum_masai = with_mean.loc['mum','masai'][0]\n",
    "# mean_mum_praxis = with_mean.loc['mum','praxis'][0]"
   ]
  },
  {
   "cell_type": "code",
   "execution_count": 118,
   "id": "6ff748bc",
   "metadata": {},
   "outputs": [
    {
     "data": {
      "text/plain": [
       "0.125"
      ]
     },
     "execution_count": 118,
     "metadata": {},
     "output_type": "execute_result"
    }
   ],
   "source": [
    "np.sum((df.loc[df.city=='bang'].loc[df.institute=='great_learn'].fees-mean_bang_great)**2)"
   ]
  },
  {
   "cell_type": "code",
   "execution_count": 122,
   "id": "40c4f7a4",
   "metadata": {},
   "outputs": [
    {
     "data": {
      "text/plain": [
       "['bang', 'mum', 'del']"
      ]
     },
     "execution_count": 122,
     "metadata": {},
     "output_type": "execute_result"
    }
   ],
   "source": [
    "list_city = list(df['city'].unique())\n",
    "list_institute = list(df['institute'].unique())"
   ]
  },
  {
   "cell_type": "code",
   "execution_count": 129,
   "id": "565afd57",
   "metadata": {},
   "outputs": [],
   "source": [
    "SSW = 0\n",
    "for i in list_city:\n",
    "    for j in list_institute:\n",
    "        mean = with_mean.loc[i,j][0]\n",
    "        SSW += np.sum((df.loc[df.city==i].loc[df.institute==j].fees-mean)**2)"
   ]
  },
  {
   "cell_type": "code",
   "execution_count": 130,
   "id": "3bdc7923",
   "metadata": {},
   "outputs": [
    {
     "data": {
      "text/plain": [
       "34.98"
      ]
     },
     "execution_count": 130,
     "metadata": {},
     "output_type": "execute_result"
    }
   ],
   "source": [
    "SSW"
   ]
  },
  {
   "cell_type": "code",
   "execution_count": 132,
   "id": "941107e2",
   "metadata": {},
   "outputs": [],
   "source": [
    "bang = list(df.loc[df.city=='bang'].fees)\n",
    "mum = list(df.loc[df.city=='mum'].fees)\n",
    "Del = list(df.loc[df.city=='del'].fees)"
   ]
  },
  {
   "cell_type": "code",
   "execution_count": 144,
   "id": "91a752e2",
   "metadata": {},
   "outputs": [],
   "source": [
    "lis_city_val = [bang,mum,Del]"
   ]
  },
  {
   "cell_type": "code",
   "execution_count": 134,
   "id": "61814ea6",
   "metadata": {},
   "outputs": [],
   "source": [
    "praxis = list(df.loc[df.institute=='praxis'].fees)\n",
    "masai = list(df.loc[df.institute=='masai'].fees)\n",
    "great_learn = list(df.loc[df.institute=='great_learn'].fees)"
   ]
  },
  {
   "cell_type": "code",
   "execution_count": 145,
   "id": "54f935b8",
   "metadata": {},
   "outputs": [],
   "source": [
    "lis_loc_val = [praxis,masai, great_learn]"
   ]
  },
  {
   "cell_type": "code",
   "execution_count": 152,
   "id": "a1cd054c",
   "metadata": {},
   "outputs": [],
   "source": [
    "var_not_city=0\n",
    "for i in lis_city_val:\n",
    "    var_not_city += len(i)*((np.mean(i)-gr_mean)**2)"
   ]
  },
  {
   "cell_type": "code",
   "execution_count": 153,
   "id": "e89c8ea8",
   "metadata": {},
   "outputs": [
    {
     "data": {
      "text/plain": [
       "1.9211111111111103"
      ]
     },
     "execution_count": 153,
     "metadata": {},
     "output_type": "execute_result"
    }
   ],
   "source": [
    "var_not_city"
   ]
  },
  {
   "cell_type": "code",
   "execution_count": 154,
   "id": "c6e365b4",
   "metadata": {},
   "outputs": [],
   "source": [
    "var_not_loc = 0\n",
    "for i in lis_loc_val:\n",
    "    var_not_loc += len(i)*((np.mean(i)-gr_mean)**2)"
   ]
  },
  {
   "cell_type": "code",
   "execution_count": 155,
   "id": "947f39d3",
   "metadata": {},
   "outputs": [
    {
     "data": {
      "text/plain": [
       "28.354444444444454"
      ]
     },
     "execution_count": 155,
     "metadata": {},
     "output_type": "execute_result"
    }
   ],
   "source": [
    "var_not_loc"
   ]
  },
  {
   "cell_type": "code",
   "execution_count": 157,
   "id": "ee392cc9",
   "metadata": {},
   "outputs": [
    {
     "data": {
      "text/plain": [
       "11.668888888888887"
      ]
     },
     "execution_count": 157,
     "metadata": {},
     "output_type": "execute_result"
    }
   ],
   "source": [
    "var_city_loc = SST-SSW-var_not_city-var_not_loc\n",
    "var_city_loc"
   ]
  },
  {
   "cell_type": "code",
   "execution_count": 158,
   "id": "c2bac270",
   "metadata": {},
   "outputs": [
    {
     "data": {
      "text/plain": [
       "(76.92444444444445,\n",
       " 34.98,\n",
       " 1.9211111111111103,\n",
       " 28.354444444444454,\n",
       " 11.668888888888887)"
      ]
     },
     "execution_count": 158,
     "metadata": {},
     "output_type": "execute_result"
    }
   ],
   "source": [
    "(SST,SSW,var_not_city,var_not_loc,var_city_loc)"
   ]
  },
  {
   "cell_type": "code",
   "execution_count": 159,
   "id": "da1ca9b0",
   "metadata": {},
   "outputs": [],
   "source": [
    "from scipy import stats"
   ]
  },
  {
   "cell_type": "code",
   "execution_count": 160,
   "id": "fb2cf190",
   "metadata": {},
   "outputs": [
    {
     "data": {
      "text/plain": [
       "0.9605555555555552"
      ]
     },
     "execution_count": 160,
     "metadata": {},
     "output_type": "execute_result"
    }
   ],
   "source": [
    "MS_city = var_not_city/(3-1)\n",
    "MS_city"
   ]
  },
  {
   "cell_type": "code",
   "execution_count": 161,
   "id": "341da38d",
   "metadata": {},
   "outputs": [
    {
     "data": {
      "text/plain": [
       "14.177222222222227"
      ]
     },
     "execution_count": 161,
     "metadata": {},
     "output_type": "execute_result"
    }
   ],
   "source": [
    "MS_loc = var_not_loc/(3-1)\n",
    "MS_loc"
   ]
  },
  {
   "cell_type": "code",
   "execution_count": 162,
   "id": "5b7ec3a0",
   "metadata": {},
   "outputs": [
    {
     "data": {
      "text/plain": [
       "2.9172222222222217"
      ]
     },
     "execution_count": 162,
     "metadata": {},
     "output_type": "execute_result"
    }
   ],
   "source": [
    "MS_city_loc = var_city_loc/((3-1)*(3-1))\n",
    "MS_city_loc"
   ]
  },
  {
   "cell_type": "code",
   "execution_count": 163,
   "id": "0e5abbd3",
   "metadata": {},
   "outputs": [
    {
     "data": {
      "text/plain": [
       "3.8866666666666663"
      ]
     },
     "execution_count": 163,
     "metadata": {},
     "output_type": "execute_result"
    }
   ],
   "source": [
    "MS_with = SSW/(18-9)\n",
    "MS_with"
   ]
  },
  {
   "cell_type": "code",
   "execution_count": 166,
   "id": "372800a9",
   "metadata": {},
   "outputs": [
    {
     "data": {
      "text/plain": [
       "4.524967320261438"
      ]
     },
     "execution_count": 166,
     "metadata": {},
     "output_type": "execute_result"
    }
   ],
   "source": [
    "MS_ALL = SST/(18-1)\n",
    "MS_ALL"
   ]
  },
  {
   "cell_type": "code",
   "execution_count": 171,
   "id": "f72c1e80",
   "metadata": {},
   "outputs": [
    {
     "data": {
      "text/plain": [
       "0.24714122355631782"
      ]
     },
     "execution_count": 171,
     "metadata": {},
     "output_type": "execute_result"
    }
   ],
   "source": [
    "f_city = MS_city/MS_with\n",
    "f_city"
   ]
  },
  {
   "cell_type": "code",
   "execution_count": 175,
   "id": "80512e4b",
   "metadata": {},
   "outputs": [
    {
     "data": {
      "text/plain": [
       "4.25649472909375"
      ]
     },
     "execution_count": 175,
     "metadata": {},
     "output_type": "execute_result"
    }
   ],
   "source": [
    "fcrit_city = stats.f.isf(0.05,dfn=(3-1),dfd=(18-9))\n",
    "fcrit_city"
   ]
  },
  {
   "cell_type": "code",
   "execution_count": 172,
   "id": "c1db4403",
   "metadata": {
    "scrolled": true
   },
   "outputs": [
    {
     "data": {
      "text/plain": [
       "3.6476558033161823"
      ]
     },
     "execution_count": 172,
     "metadata": {},
     "output_type": "execute_result"
    }
   ],
   "source": [
    "f_loc = MS_loc/MS_with\n",
    "f_loc"
   ]
  },
  {
   "cell_type": "code",
   "execution_count": 176,
   "id": "b8579964",
   "metadata": {},
   "outputs": [
    {
     "data": {
      "text/plain": [
       "4.25649472909375"
      ]
     },
     "execution_count": 176,
     "metadata": {},
     "output_type": "execute_result"
    }
   ],
   "source": [
    "fcrit_loc = stats.f.isf(0.05,dfn=(3-1),dfd=(18-9))\n",
    "fcrit_loc"
   ]
  },
  {
   "cell_type": "code",
   "execution_count": 173,
   "id": "4ccb7201",
   "metadata": {
    "scrolled": true
   },
   "outputs": [
    {
     "data": {
      "text/plain": [
       "0.7505717552887363"
      ]
     },
     "execution_count": 173,
     "metadata": {},
     "output_type": "execute_result"
    }
   ],
   "source": [
    "f_city_loc = MS_city_loc/MS_with\n",
    "f_city_loc"
   ]
  },
  {
   "cell_type": "code",
   "execution_count": 177,
   "id": "83513aec",
   "metadata": {},
   "outputs": [
    {
     "data": {
      "text/plain": [
       "3.6330885114190794"
      ]
     },
     "execution_count": 177,
     "metadata": {},
     "output_type": "execute_result"
    }
   ],
   "source": [
    "fcrit_city_loc = stats.f.isf(0.05,dfn=(3-1)*(3-1),dfd=(18-9))\n",
    "fcrit_city_loc"
   ]
  },
  {
   "cell_type": "code",
   "execution_count": 187,
   "id": "acaaa18e",
   "metadata": {},
   "outputs": [
    {
     "data": {
      "text/plain": [
       "(0.5819606272217828, 0.7505717552887363, 3.6330885114190794)"
      ]
     },
     "execution_count": 187,
     "metadata": {},
     "output_type": "execute_result"
    }
   ],
   "source": [
    "stats.f.sf(f_city_loc,dfn=4,dfd=9),f_city_loc,fcrit_city_loc"
   ]
  },
  {
   "cell_type": "code",
   "execution_count": 188,
   "id": "4d03d695",
   "metadata": {},
   "outputs": [
    {
     "data": {
      "text/plain": [
       "(0.7861612413954701, 0.24714122355631782, 4.25649472909375)"
      ]
     },
     "execution_count": 188,
     "metadata": {},
     "output_type": "execute_result"
    }
   ],
   "source": [
    "stats.f.sf(f_city,dfn=2,dfd=9),f_city,fcrit_city"
   ]
  },
  {
   "cell_type": "code",
   "execution_count": 189,
   "id": "315f0296",
   "metadata": {},
   "outputs": [
    {
     "data": {
      "text/plain": [
       "(0.06915272191075512, 3.6476558033161823, 4.25649472909375)"
      ]
     },
     "execution_count": 189,
     "metadata": {},
     "output_type": "execute_result"
    }
   ],
   "source": [
    "stats.f.sf(f_loc,dfn=2,dfd=9),f_loc,fcrit_loc"
   ]
  }
 ],
 "metadata": {
  "kernelspec": {
   "display_name": "Python 3 (ipykernel)",
   "language": "python",
   "name": "python3"
  },
  "language_info": {
   "codemirror_mode": {
    "name": "ipython",
    "version": 3
   },
   "file_extension": ".py",
   "mimetype": "text/x-python",
   "name": "python",
   "nbconvert_exporter": "python",
   "pygments_lexer": "ipython3",
   "version": "3.9.12"
  }
 },
 "nbformat": 4,
 "nbformat_minor": 5
}
